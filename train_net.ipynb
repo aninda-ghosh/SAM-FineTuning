{
 "cells": [
  {
   "cell_type": "code",
   "execution_count": 4,
   "metadata": {},
   "outputs": [],
   "source": [
    "import sys\n",
    "from os import mkdir\n",
    "\n",
    "import torch.nn.functional as F\n",
    "\n",
    "sys.path.append('.')\n",
    "from config import cfg\n",
    "\n",
    "from engine.sam_trainer import do_train\n",
    "\n",
    "from data.build import SAM_Dataloader\n",
    "from modeling.segment_anything import prepare_sam\n",
    "from solver.optimizer import build_optimizer\n",
    "from solver.lr_schedular import build_lrSchedular\n",
    "from solver.loss import FocalLoss, DiceLoss\n",
    "\n",
    "from utils.logger import setup_logger\n",
    "\n",
    "from config import cfg  # Import the default config file"
   ]
  },
  {
   "cell_type": "code",
   "execution_count": 5,
   "metadata": {},
   "outputs": [],
   "source": [
    "def train(cfg):\n",
    "    # Get the model and download the checkpoint if needed\n",
    "    model = prepare_sam(checkpoint=cfg.MODEL.CHECKPOINT)\n",
    "    device = cfg.MODEL.DEVICE\n",
    "\n",
    "    #Set the portion of the model to be trained (We will train only the mask_decoder part)\n",
    "    for name, param in model.named_parameters():\n",
    "        if name.startswith('image_encoder') or name.startswith('prompt_encoder'):\n",
    "            param.requires_grad = False\n",
    "    \n",
    "    # Get the dataloader and prepare the train, validation and test dataloader\n",
    "    sam_dataloader = SAM_Dataloader(cfg)\n",
    "    train_loader, val_loader, _ = sam_dataloader.build_dataloader()\n",
    "\n",
    "    # Get the optimizer and scheduler\n",
    "    optimizer = build_optimizer(cfg, model)\n",
    "    scheduler = build_lrSchedular(cfg=None, optimizer=optimizer)\n",
    "\n",
    "    loss_fn = FocalLoss()\n",
    "\n",
    "    do_train( \n",
    "        cfg,\n",
    "        model,\n",
    "        train_loader,\n",
    "        val_loader,\n",
    "        optimizer,\n",
    "        scheduler,\n",
    "        loss_fn,\n",
    "    )"
   ]
  },
  {
   "cell_type": "code",
   "execution_count": 6,
   "metadata": {},
   "outputs": [
    {
     "name": "stdout",
     "output_type": "stream",
     "text": [
      "DATALOADER:\n",
      "  BATCH_SIZE: 4\n",
      "  NUM_WORKERS: 0\n",
      "  TEST_DATA: 0.2\n",
      "  TRAIN_DATA: 0.8\n",
      "  VALID_DATA: 0.2\n",
      "DATASETS:\n",
      "  ROOT_DIR: /home/legion-ubuntu/Research/Kerner-Lab/datasets/images2/\n",
      "INPUT:\n",
      "  \n",
      "MODEL:\n",
      "  CHECKPOINT: /home/legion-ubuntu/Research/Kerner-Lab/SAM-FineTuning/modeling/model_checkpoints/sam_vit_b_01ec64.pth\n",
      "  DEVICE: cuda\n",
      "OUTPUT_DIR: \n",
      "SOLVER:\n",
      "  BASE_LR: 0.01\n",
      "  ITEMS_PER_BATCH: 4\n",
      "  MAX_EPOCHS: 5\n",
      "  WEIGHT_DECAY: 0.001\n",
      "TEST:\n",
      "  ITEMS_PER_BATCH: 2\n",
      "VALID:\n",
      "  ITEMS_PER_BATCH: 2\n"
     ]
    }
   ],
   "source": [
    "cfg.freeze()\n",
    "print(cfg)"
   ]
  },
  {
   "cell_type": "code",
   "execution_count": 7,
   "metadata": {},
   "outputs": [
    {
     "name": "stdout",
     "output_type": "stream",
     "text": [
      "Downloading SAM ViT-B checkpoint...\n",
      "sam_vit_b_01ec64.pth  is downloaded!\n"
     ]
    },
    {
     "name": "stderr",
     "output_type": "stream",
     "text": [
      "  0%|          | 0/111 [00:00<?, ?it/s]\n"
     ]
    },
    {
     "ename": "TypeError",
     "evalue": "list indices must be integers or slices, not str",
     "output_type": "error",
     "traceback": [
      "\u001b[0;31m---------------------------------------------------------------------------\u001b[0m",
      "\u001b[0;31mTypeError\u001b[0m                                 Traceback (most recent call last)",
      "Cell \u001b[0;32mIn[7], line 1\u001b[0m\n\u001b[0;32m----> 1\u001b[0m train(cfg)\n",
      "Cell \u001b[0;32mIn[5], line 21\u001b[0m, in \u001b[0;36mtrain\u001b[0;34m(cfg)\u001b[0m\n\u001b[1;32m     17\u001b[0m scheduler \u001b[39m=\u001b[39m build_lrSchedular(cfg\u001b[39m=\u001b[39m\u001b[39mNone\u001b[39;00m, optimizer\u001b[39m=\u001b[39moptimizer)\n\u001b[1;32m     19\u001b[0m loss_fn \u001b[39m=\u001b[39m FocalLoss()\n\u001b[0;32m---> 21\u001b[0m do_train( \n\u001b[1;32m     22\u001b[0m     cfg,\n\u001b[1;32m     23\u001b[0m     model,\n\u001b[1;32m     24\u001b[0m     train_loader,\n\u001b[1;32m     25\u001b[0m     val_loader,\n\u001b[1;32m     26\u001b[0m     optimizer,\n\u001b[1;32m     27\u001b[0m     scheduler,\n\u001b[1;32m     28\u001b[0m     loss_fn,\n\u001b[1;32m     29\u001b[0m )\n",
      "File \u001b[0;32m~/Research/Kerner-Lab/SAM-FineTuning/engine/sam_trainer.py:42\u001b[0m, in \u001b[0;36mdo_train\u001b[0;34m(cfg, model, train_loader, val_loader, optimizer, scheduler, loss_fn)\u001b[0m\n\u001b[1;32m     38\u001b[0m progress_bar \u001b[39m=\u001b[39m tqdm(train_loader, total\u001b[39m=\u001b[39m\u001b[39mlen\u001b[39m(train_loader))\n\u001b[1;32m     40\u001b[0m \u001b[39mfor\u001b[39;00m data \u001b[39min\u001b[39;00m progress_bar:\n\u001b[1;32m     41\u001b[0m     \u001b[39m#print(data)\u001b[39;00m\n\u001b[0;32m---> 42\u001b[0m     image \u001b[39m=\u001b[39m data[\u001b[39m\"\u001b[39;49m\u001b[39mimage\u001b[39;49m\u001b[39m\"\u001b[39;49m]\u001b[39m.\u001b[39mto(device)\n\u001b[1;32m     43\u001b[0m     bbox_prompts \u001b[39m=\u001b[39m data[\u001b[39m\"\u001b[39m\u001b[39mbbox_prompts\u001b[39m\u001b[39m\"\u001b[39m]\u001b[39m.\u001b[39mto(device)\n\u001b[1;32m     44\u001b[0m     point_prompts \u001b[39m=\u001b[39m data[\u001b[39m\"\u001b[39m\u001b[39mpoint_prompts\u001b[39m\u001b[39m\"\u001b[39m]\u001b[39m.\u001b[39mto(device)\n",
      "\u001b[0;31mTypeError\u001b[0m: list indices must be integers or slices, not str"
     ]
    }
   ],
   "source": [
    "train(cfg)"
   ]
  },
  {
   "cell_type": "code",
   "execution_count": 1,
   "metadata": {},
   "outputs": [],
   "source": [
    "import numpy as np"
   ]
  },
  {
   "cell_type": "code",
   "execution_count": 2,
   "metadata": {},
   "outputs": [],
   "source": [
    "def _build_point_grid(n_per_side: int) -> np.ndarray:\n",
    "        \"\"\"Generates a 2D grid of points evenly spaced in [0,1]x[0,1].\"\"\"\n",
    "        offset = 1 / (2 * n_per_side)\n",
    "        points_one_side = np.linspace(offset, 1 - offset, n_per_side)\n",
    "        points_x = np.tile(points_one_side[None, :], (n_per_side, 1))\n",
    "        points_y = np.tile(points_one_side[:, None], (1, n_per_side))\n",
    "        points = np.stack([points_x, points_y], axis=-1).reshape(-1, 2)\n",
    "        return points"
   ]
  },
  {
   "cell_type": "code",
   "execution_count": 4,
   "metadata": {},
   "outputs": [],
   "source": [
    "bbox = [193, 301, 387, 448]\n",
    "x_min, y_min, x_max, y_max = bbox"
   ]
  },
  {
   "cell_type": "code",
   "execution_count": 5,
   "metadata": {},
   "outputs": [],
   "source": [
    "# Get grid points within the bounding box\n",
    "grid_points = _build_point_grid(10)"
   ]
  },
  {
   "cell_type": "code",
   "execution_count": 9,
   "metadata": {},
   "outputs": [
    {
     "ename": "TypeError",
     "evalue": "only size-1 arrays can be converted to Python scalars",
     "output_type": "error",
     "traceback": [
      "\u001b[0;31m---------------------------------------------------------------------------\u001b[0m",
      "\u001b[0;31mTypeError\u001b[0m                                 Traceback (most recent call last)",
      "Cell \u001b[0;32mIn[9], line 2\u001b[0m\n\u001b[1;32m      1\u001b[0m \u001b[39m#This forms a 2D grid points and we need to normalize it to the bbox size\u001b[39;00m\n\u001b[0;32m----> 2\u001b[0m grid_points[:, \u001b[39m0\u001b[39m] \u001b[39m=\u001b[39m \u001b[39mint\u001b[39;49m(grid_points[:, \u001b[39m0\u001b[39;49m] \u001b[39m*\u001b[39;49m (x_max \u001b[39m-\u001b[39;49m x_min) \u001b[39m+\u001b[39;49m x_min)\n\u001b[1;32m      3\u001b[0m grid_points[:, \u001b[39m1\u001b[39m] \u001b[39m=\u001b[39m \u001b[39mint\u001b[39m(grid_points[:, \u001b[39m1\u001b[39m] \u001b[39m*\u001b[39m (y_max \u001b[39m-\u001b[39m y_min) \u001b[39m+\u001b[39m y_min)\n",
      "\u001b[0;31mTypeError\u001b[0m: only size-1 arrays can be converted to Python scalars"
     ]
    }
   ],
   "source": [
    "#This forms a 2D grid points and we need to normalize it to the bbox size\n",
    "grid_points[:, 0] = grid_points[:, 0] * (x_max - x_min) + x_min\n",
    "grid_points[:, 1] = grid_points[:, 1] * (y_max - y_min) + y_min"
   ]
  },
  {
   "cell_type": "code",
   "execution_count": 8,
   "metadata": {},
   "outputs": [
    {
     "data": {
      "text/plain": [
       "array([[202.7 , 308.35],\n",
       "       [222.1 , 308.35],\n",
       "       [241.5 , 308.35],\n",
       "       [260.9 , 308.35],\n",
       "       [280.3 , 308.35],\n",
       "       [299.7 , 308.35],\n",
       "       [319.1 , 308.35],\n",
       "       [338.5 , 308.35],\n",
       "       [357.9 , 308.35],\n",
       "       [377.3 , 308.35],\n",
       "       [202.7 , 323.05],\n",
       "       [222.1 , 323.05],\n",
       "       [241.5 , 323.05],\n",
       "       [260.9 , 323.05],\n",
       "       [280.3 , 323.05],\n",
       "       [299.7 , 323.05],\n",
       "       [319.1 , 323.05],\n",
       "       [338.5 , 323.05],\n",
       "       [357.9 , 323.05],\n",
       "       [377.3 , 323.05],\n",
       "       [202.7 , 337.75],\n",
       "       [222.1 , 337.75],\n",
       "       [241.5 , 337.75],\n",
       "       [260.9 , 337.75],\n",
       "       [280.3 , 337.75],\n",
       "       [299.7 , 337.75],\n",
       "       [319.1 , 337.75],\n",
       "       [338.5 , 337.75],\n",
       "       [357.9 , 337.75],\n",
       "       [377.3 , 337.75],\n",
       "       [202.7 , 352.45],\n",
       "       [222.1 , 352.45],\n",
       "       [241.5 , 352.45],\n",
       "       [260.9 , 352.45],\n",
       "       [280.3 , 352.45],\n",
       "       [299.7 , 352.45],\n",
       "       [319.1 , 352.45],\n",
       "       [338.5 , 352.45],\n",
       "       [357.9 , 352.45],\n",
       "       [377.3 , 352.45],\n",
       "       [202.7 , 367.15],\n",
       "       [222.1 , 367.15],\n",
       "       [241.5 , 367.15],\n",
       "       [260.9 , 367.15],\n",
       "       [280.3 , 367.15],\n",
       "       [299.7 , 367.15],\n",
       "       [319.1 , 367.15],\n",
       "       [338.5 , 367.15],\n",
       "       [357.9 , 367.15],\n",
       "       [377.3 , 367.15],\n",
       "       [202.7 , 381.85],\n",
       "       [222.1 , 381.85],\n",
       "       [241.5 , 381.85],\n",
       "       [260.9 , 381.85],\n",
       "       [280.3 , 381.85],\n",
       "       [299.7 , 381.85],\n",
       "       [319.1 , 381.85],\n",
       "       [338.5 , 381.85],\n",
       "       [357.9 , 381.85],\n",
       "       [377.3 , 381.85],\n",
       "       [202.7 , 396.55],\n",
       "       [222.1 , 396.55],\n",
       "       [241.5 , 396.55],\n",
       "       [260.9 , 396.55],\n",
       "       [280.3 , 396.55],\n",
       "       [299.7 , 396.55],\n",
       "       [319.1 , 396.55],\n",
       "       [338.5 , 396.55],\n",
       "       [357.9 , 396.55],\n",
       "       [377.3 , 396.55],\n",
       "       [202.7 , 411.25],\n",
       "       [222.1 , 411.25],\n",
       "       [241.5 , 411.25],\n",
       "       [260.9 , 411.25],\n",
       "       [280.3 , 411.25],\n",
       "       [299.7 , 411.25],\n",
       "       [319.1 , 411.25],\n",
       "       [338.5 , 411.25],\n",
       "       [357.9 , 411.25],\n",
       "       [377.3 , 411.25],\n",
       "       [202.7 , 425.95],\n",
       "       [222.1 , 425.95],\n",
       "       [241.5 , 425.95],\n",
       "       [260.9 , 425.95],\n",
       "       [280.3 , 425.95],\n",
       "       [299.7 , 425.95],\n",
       "       [319.1 , 425.95],\n",
       "       [338.5 , 425.95],\n",
       "       [357.9 , 425.95],\n",
       "       [377.3 , 425.95],\n",
       "       [202.7 , 440.65],\n",
       "       [222.1 , 440.65],\n",
       "       [241.5 , 440.65],\n",
       "       [260.9 , 440.65],\n",
       "       [280.3 , 440.65],\n",
       "       [299.7 , 440.65],\n",
       "       [319.1 , 440.65],\n",
       "       [338.5 , 440.65],\n",
       "       [357.9 , 440.65],\n",
       "       [377.3 , 440.65]])"
      ]
     },
     "execution_count": 8,
     "metadata": {},
     "output_type": "execute_result"
    }
   ],
   "source": [
    "grid_points"
   ]
  },
  {
   "cell_type": "code",
   "execution_count": null,
   "metadata": {},
   "outputs": [],
   "source": []
  }
 ],
 "metadata": {
  "kernelspec": {
   "display_name": "sam",
   "language": "python",
   "name": "python3"
  },
  "language_info": {
   "codemirror_mode": {
    "name": "ipython",
    "version": 3
   },
   "file_extension": ".py",
   "mimetype": "text/x-python",
   "name": "python",
   "nbconvert_exporter": "python",
   "pygments_lexer": "ipython3",
   "version": "3.9.16"
  },
  "orig_nbformat": 4
 },
 "nbformat": 4,
 "nbformat_minor": 2
}
